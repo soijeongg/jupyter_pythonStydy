{
 "cells": [
  {
   "cell_type": "code",
   "execution_count": 2,
   "id": "b40d1b2c",
   "metadata": {},
   "outputs": [],
   "source": [
    "#ㅗ듈 이름을 파이썬가 동일하게 사용하기\n",
    "#만든 모듈을 가져와 사용\n",
    "#만든 모듈 사용하기\n",
    "#이게 에러가 안난다면 승리\n",
    "# as 변경 MT 알리아스 라고 하고 별명을 붙여주느느 경우가 더 많음\n",
    "import module_test"
   ]
  },
  {
   "cell_type": "code",
   "execution_count": 3,
   "id": "dae86a59",
   "metadata": {},
   "outputs": [],
   "source": [
    "#모듈테스트 안에 있는 함수 사용해야함"
   ]
  },
  {
   "cell_type": "code",
   "execution_count": 4,
   "id": "407dbd54",
   "metadata": {},
   "outputs": [
    {
     "data": {
      "text/plain": [
       "12"
      ]
     },
     "execution_count": 4,
     "metadata": {},
     "output_type": "execute_result"
    }
   ],
   "source": [
    "#모듈 자체 불러오기\n",
    "module_test.mul_test(2,6)"
   ]
  },
  {
   "cell_type": "code",
   "execution_count": 5,
   "id": "b7f700c8",
   "metadata": {},
   "outputs": [
    {
     "data": {
      "text/plain": [
       "9"
      ]
     },
     "execution_count": 5,
     "metadata": {},
     "output_type": "execute_result"
    }
   ],
   "source": [
    "#한가지더 사용방법\n",
    "#함수 하나만 더 불러오가\n",
    "from module_test import sum_test\n",
    "\n",
    "sum_test(2,7)"
   ]
  },
  {
   "cell_type": "code",
   "execution_count": 11,
   "id": "0c61efe1",
   "metadata": {},
   "outputs": [
    {
     "data": {
      "text/plain": [
       "3"
      ]
     },
     "execution_count": 11,
     "metadata": {},
     "output_type": "execute_result"
    }
   ],
   "source": [
    "import math\n",
    "math.pi\n",
    "math.floor(math.pi)"
   ]
  },
  {
   "cell_type": "code",
   "execution_count": 12,
   "id": "3751d22d",
   "metadata": {},
   "outputs": [
    {
     "data": {
      "text/plain": [
       "True"
      ]
     },
     "execution_count": 12,
     "metadata": {},
     "output_type": "execute_result"
    }
   ],
   "source": [
    "import webbrowser as web\n",
    "url='http://www.naver.com/'\n",
    "webbrowser.open(url)\n"
   ]
  },
  {
   "cell_type": "code",
   "execution_count": null,
   "id": "17f52b6f",
   "metadata": {},
   "outputs": [],
   "source": [
    "import sys\n"
   ]
  },
  {
   "cell_type": "code",
   "execution_count": null,
   "id": "44095bcf",
   "metadata": {},
   "outputs": [],
   "source": []
  },
  {
   "cell_type": "code",
   "execution_count": null,
   "id": "03e841c9",
   "metadata": {},
   "outputs": [],
   "source": []
  },
  {
   "cell_type": "code",
   "execution_count": null,
   "id": "57af0332",
   "metadata": {},
   "outputs": [],
   "source": []
  },
  {
   "cell_type": "code",
   "execution_count": null,
   "id": "83a91728",
   "metadata": {},
   "outputs": [],
   "source": []
  },
  {
   "cell_type": "code",
   "execution_count": null,
   "id": "594437f6",
   "metadata": {},
   "outputs": [],
   "source": []
  },
  {
   "cell_type": "code",
   "execution_count": null,
   "id": "3e6a24ba",
   "metadata": {},
   "outputs": [],
   "source": []
  },
  {
   "cell_type": "code",
   "execution_count": null,
   "id": "968c33b1",
   "metadata": {},
   "outputs": [],
   "source": []
  },
  {
   "cell_type": "code",
   "execution_count": null,
   "id": "9ede67cb",
   "metadata": {},
   "outputs": [],
   "source": []
  },
  {
   "cell_type": "code",
   "execution_count": null,
   "id": "bf83de0d",
   "metadata": {},
   "outputs": [],
   "source": []
  },
  {
   "cell_type": "code",
   "execution_count": null,
   "id": "66386f98",
   "metadata": {},
   "outputs": [],
   "source": []
  }
 ],
 "metadata": {
  "kernelspec": {
   "display_name": "Python 3 (ipykernel)",
   "language": "python",
   "name": "python3"
  },
  "language_info": {
   "codemirror_mode": {
    "name": "ipython",
    "version": 3
   },
   "file_extension": ".py",
   "mimetype": "text/x-python",
   "name": "python",
   "nbconvert_exporter": "python",
   "pygments_lexer": "ipython3",
   "version": "3.10.9"
  }
 },
 "nbformat": 4,
 "nbformat_minor": 5
}
