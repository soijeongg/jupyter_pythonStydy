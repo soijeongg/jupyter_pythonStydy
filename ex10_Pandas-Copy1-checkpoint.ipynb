{
 "cells": [
  {
   "cell_type": "markdown",
   "id": "4756e949",
   "metadata": {},
   "source": [
    "# 넘파이는 내가 무엇인지 모르면 뭐가 뭔지 모르니까 보기 불편하다\n",
    "# 판다스 라이브러리 \n",
    "# 판다스도 저장, 연산에 목적+ 출력에도 목적이 있다\n",
    "# 출력: 보기 편하다"
   ]
  },
  {
   "cell_type": "markdown",
   "id": "c4cd31c5",
   "metadata": {},
   "source": [
    "# 판다스의 데이터의 형식 2차원 데이터가 있고 1차원 데이터가 있다\n",
    "- 넘파이는 차원에 상관없이 데이터를 담을 수 있지만 판다스는 다르다\n",
    "-  인덱스를 붙여준다 직접 개입 가능\n",
    "- colum이라고 데이터 이름이 붙는다 \n",
    "- 1차원 데이터 series 2차원 데이터 DataFrames\n",
    "-  데이터 프레임은 시리즈로 이루어져 있다\n",
    "- 시리즈는 인덱스, 컬럼 하나로 구성 넘파이로도 제작 가능 array사용가능 list dict 가능 "
   ]
  },
  {
   "cell_type": "code",
   "execution_count": 6,
   "id": "17c01e94",
   "metadata": {},
   "outputs": [
    {
     "data": {
      "text/plain": [
       "0    9904312\n",
       "1    3448737\n",
       "2    2890451\n",
       "3    2466052\n",
       "dtype: int64"
      ]
     },
     "execution_count": 6,
     "metadata": {},
     "output_type": "execute_result"
    }
   ],
   "source": [
    "import pandas as pd\n",
    "pop  = pd.Series([9904312, 3448737, 2890451, 2466052])\n",
    "#시리즈 생성 쉽게 보기위한 용도이지 만드는 용도가 아님\n",
    "pop\n",
    "#이걸 표현해주기 위한 인덱스 번호 데이터 타입이 붙어있다\n",
    "\n"
   ]
  },
  {
   "cell_type": "code",
   "execution_count": 14,
   "id": "30bf695b",
   "metadata": {},
   "outputs": [
    {
     "data": {
      "text/plain": [
       "서울    9904312\n",
       "부산    3448737\n",
       "인천    2890451\n",
       "dtype: int64"
      ]
     },
     "execution_count": 14,
     "metadata": {},
     "output_type": "execute_result"
    }
   ],
   "source": [
    "#Series:인덱스를 직접 지정 할 수 있다\n",
    "#인덱스를 지정하지 않으면 0부터 시작 번호 직접 지정하면 그 값이 인덱스로 반영\n",
    "# 인덱스 지정하고 사용하면 값 뿐만이 아니라 인덱싱 번호도 사용가능\n",
    "pop = pd.Series([9904312, 3448737, 2890451, 2466052], index = ['서울','부산','인천','대구'])\n",
    "pop\n",
    "#순서가 있는 데이터라면 인덱싱과 슬라이싱이 무조건 된다\n",
    "pop['서울':'인천']\n",
    "pop[0:3]"
   ]
  },
  {
   "cell_type": "markdown",
   "id": "e129bd29",
   "metadata": {},
   "source": [
    "### 직접 지정한 인덱스를 슬라이싱해 사용하면 [이상: 미만]X\n",
    "\n",
    "### *[이상:이하]O*"
   ]
  },
  {
   "cell_type": "code",
   "execution_count": 11,
   "id": "ebec34f4",
   "metadata": {},
   "outputs": [
    {
     "data": {
      "text/plain": [
       "array([9904312, 3448737, 2890451, 2466052], dtype=int64)"
      ]
     },
     "execution_count": 11,
     "metadata": {},
     "output_type": "execute_result"
    }
   ],
   "source": [
    "#시리즈에 있는 값을 확인: values\n",
    "pop.values\n",
    "#출력된 값을 보면  array로 되어있다\n",
    "#시리즈는 np.array로 이루어져 있다\n",
    "# 값만 가져와서 반복문을 돌릴 수 있다"
   ]
  },
  {
   "cell_type": "code",
   "execution_count": 12,
   "id": "a8768ff2",
   "metadata": {},
   "outputs": [
    {
     "data": {
      "text/plain": [
       "Index(['서울', '부산', '인천', '대구'], dtype='object')"
      ]
     },
     "execution_count": 12,
     "metadata": {},
     "output_type": "execute_result"
    }
   ],
   "source": [
    "## series의 인덱스 확인: index\n",
    "pop.index"
   ]
  },
  {
   "cell_type": "code",
   "execution_count": 13,
   "id": "dcc0c7d0",
   "metadata": {},
   "outputs": [
    {
     "data": {
      "text/plain": [
       "dtype('int64')"
      ]
     },
     "execution_count": 13,
     "metadata": {},
     "output_type": "execute_result"
    }
   ],
   "source": [
    "#series의 타입 확인: dtype\n",
    "pop.dtype"
   ]
  },
  {
   "cell_type": "code",
   "execution_count": 18,
   "id": "db7690d4",
   "metadata": {},
   "outputs": [
    {
     "data": {
      "text/plain": [
       "도시\n",
       "서울    9904312\n",
       "부산    3448737\n",
       "인천    2890451\n",
       "대구    2466052\n",
       "Name: 인구, dtype: int64"
      ]
     },
     "execution_count": 18,
     "metadata": {},
     "output_type": "execute_result"
    }
   ],
   "source": [
    "pop\n",
    "#시리즈 1차원의 데이터 엑셀러 보면 세로 한줄의 데이터만 있다\n",
    "#인덱스와 컬럼에도 이름을 달아줄 수 있다\n",
    "#인덱스에 이름 달기: .index.name\n",
    "pop.index.name = '도시'\n",
    "pop\n",
    "#colum의 이름달기:.name\n",
    "pop.name ='인구'\n",
    "pop"
   ]
  },
  {
   "cell_type": "markdown",
   "id": "743f882b",
   "metadata": {},
   "source": [
    "- 근데 이렇게 아래 나온다 \n",
    "- 이건 못바꿈"
   ]
  },
  {
   "cell_type": "code",
   "execution_count": 21,
   "id": "1417cd31",
   "metadata": {},
   "outputs": [
    {
     "data": {
      "text/plain": [
       "도시\n",
       "서울    9.904312\n",
       "부산    3.448737\n",
       "인천    2.890451\n",
       "대구    2.466052\n",
       "Name: 인구, dtype: float64"
      ]
     },
     "execution_count": 21,
     "metadata": {},
     "output_type": "execute_result"
    }
   ],
   "source": [
    "#series연산 비교 연산도 가능\n",
    "pop / 1000000"
   ]
  },
  {
   "cell_type": "code",
   "execution_count": 24,
   "id": "fa4a13bc",
   "metadata": {},
   "outputs": [
    {
     "data": {
      "text/plain": [
       "도시\n",
       "부산    3448737\n",
       "대구    2466052\n",
       "서울    9904312\n",
       "인천    2890451\n",
       "Name: 인구, dtype: int64"
      ]
     },
     "execution_count": 24,
     "metadata": {},
     "output_type": "execute_result"
    }
   ],
   "source": [
    "#팬시 인덱싱(Fancy Indexing)\n",
    "#여러가지 방법이 섞인 인덱싱을 부르는 명칭\n",
    "#리스트 사용해서 인덱싱 하면 띄여져 있는 값도 인덱싱이 가능하다\n",
    "#대상의 이름만 지정\n",
    "#순서 방향 횟수 다 무시할 수 있음 뒤에 있는거 먼저 하고 앞에꺼 가능하고 \n",
    "#한번 한거 다시 출력 가능\n",
    "#인덱스 번호도 사용가능\n",
    "pop[['부산','대구','서울','인천']]"
   ]
  },
  {
   "cell_type": "code",
   "execution_count": null,
   "id": "9e79c362",
   "metadata": {},
   "outputs": [],
   "source": [
    "#boolean인덱싱\n",
    "#인구수가 250만 이상인 값들을 출력하기\n",
    "#인구수가 500만이하의 값 출력하기\n",
    "#3, 안구수가 250만 이상 500만 이하 값 출력"
   ]
  },
  {
   "cell_type": "code",
   "execution_count": 29,
   "id": "5fe98a67",
   "metadata": {},
   "outputs": [
    {
     "data": {
      "text/plain": [
       "도시\n",
       "서울    9904312\n",
       "부산    3448737\n",
       "인천    2890451\n",
       "Name: 인구, dtype: int64"
      ]
     },
     "execution_count": 29,
     "metadata": {},
     "output_type": "execute_result"
    }
   ],
   "source": [
    "pop[pop>=2500000]"
   ]
  },
  {
   "cell_type": "code",
   "execution_count": 30,
   "id": "c47869bf",
   "metadata": {},
   "outputs": [
    {
     "data": {
      "text/plain": [
       "도시\n",
       "부산    3448737\n",
       "인천    2890451\n",
       "대구    2466052\n",
       "Name: 인구, dtype: int64"
      ]
     },
     "execution_count": 30,
     "metadata": {},
     "output_type": "execute_result"
    }
   ],
   "source": [
    "pop[pop<=5000000]"
   ]
  },
  {
   "cell_type": "code",
   "execution_count": 38,
   "id": "6175aea2",
   "metadata": {},
   "outputs": [
    {
     "data": {
      "text/plain": [
       "도시\n",
       "부산    3448737\n",
       "인천    2890451\n",
       "Name: 인구, dtype: int64"
      ]
     },
     "execution_count": 38,
     "metadata": {},
     "output_type": "execute_result"
    }
   ],
   "source": [
    "pop[pop[pop>=2500000]& pop[pop<=5000000]]\n",
    "pop[(pop >=2500000)& (pop<=5000000)]\n",
    "#and가 안되는 이유 연산자의 우선순위가 달라서 그렇다 아마 가운데 &가 1번일 수도\n",
    "# and와 &은 다른 연산자\n",
    "# and는 T/F가 맡고 &는 비트 연산자 1과 0으로 나누어 연산 and는 여러대상을 한번에 계산 불가\n",
    "#많은 데이터 비교할떄는 기호 사용하기()"
   ]
  },
  {
   "attachments": {
    "image.png": {
     "image/png": "[encoded data removed]"
    }
   },
   "cell_type": "markdown",
   "id": "c4d6b022",
   "metadata": {},
   "source": [
    "![image.png](attachment:image.png)"
   ]
  },
  {
   "cell_type": "code",
   "execution_count": 41,
   "id": "d36d5352",
   "metadata": {},
   "outputs": [
    {
     "data": {
      "text/plain": [
       "{'서울': 9631482, '부산': 3393191, '인천': 2632035, '대전': 1490158}"
      ]
     },
     "execution_count": 41,
     "metadata": {},
     "output_type": "execute_result"
    }
   ],
   "source": [
    "#딕셔너리로 시리즈 생성\n",
    "#key 와 value\n",
    "#index = key값\n",
    "#value에는 value값이 들어간다\n",
    "\n",
    "dic = {'서울':9631482,'부산':3393191,'인천':2632035, \"대전\": 1490158}\n",
    "dic"
   ]
  },
  {
   "cell_type": "code",
   "execution_count": 42,
   "id": "3419715b",
   "metadata": {},
   "outputs": [
    {
     "data": {
      "text/plain": [
       "서울    9631482\n",
       "부산    3393191\n",
       "인천    2632035\n",
       "대전    1490158\n",
       "dtype: int64"
      ]
     },
     "execution_count": 42,
     "metadata": {},
     "output_type": "execute_result"
    }
   ],
   "source": [
    "pop1 = pd.Series(dic)\n",
    "pop1"
   ]
  },
  {
   "cell_type": "code",
   "execution_count": 43,
   "id": "f73c29f5",
   "metadata": {},
   "outputs": [
    {
     "data": {
      "text/plain": [
       "도시\n",
       "서울    9904312\n",
       "부산    3448737\n",
       "인천    2890451\n",
       "대구    2466052\n",
       "Name: 인구, dtype: int64"
      ]
     },
     "execution_count": 43,
     "metadata": {},
     "output_type": "execute_result"
    }
   ],
   "source": [
    "pop"
   ]
  },
  {
   "cell_type": "code",
   "execution_count": 50,
   "id": "ccf40a95",
   "metadata": {},
   "outputs": [
    {
     "data": {
      "text/plain": [
       "부산     55546.0\n",
       "서울    272830.0\n",
       "인천    258416.0\n",
       "dtype: float64"
      ]
     },
     "execution_count": 50,
     "metadata": {},
     "output_type": "execute_result"
    }
   ],
   "source": [
    "#5가지 값이 나오는 경우\n",
    "#넘파이는 크기가 같으면 무조건 위치가 같았지만 \n",
    "#직접 인덱스를 지정하고 같은 인덱스를 지정 한다\n",
    "#pop에는 대구가 있고 pop1에는 대전이 있어 서로 다르다 드래서 이둘은 서로 연산 불가\n",
    "result=pop-pop1\n",
    "result[result.notnull()]\n"
   ]
  },
  {
   "cell_type": "markdown",
   "id": "82ba847c",
   "metadata": {},
   "source": [
    "## 비숫해보이는 2개를 가지고 왔는데 조금 다를때 직접 거르기는 힘듬\n",
    "* 없는 값을 걸러낼 수 있다\n",
    "* notnull() ->>null이냐고도 묻고 있는것\n",
    "* 통칭이 null \n",
    "* 이걸 사용해 boolean인덱싱 하면 됨"
   ]
  },
  {
   "cell_type": "code",
   "execution_count": 49,
   "id": "de066007",
   "metadata": {},
   "outputs": [
    {
     "data": {
      "text/plain": [
       "대구   NaN\n",
       "대전   NaN\n",
       "dtype: float64"
      ]
     },
     "execution_count": 49,
     "metadata": {},
     "output_type": "execute_result"
    }
   ],
   "source": [
    "result[result.isnull()]"
   ]
  },
  {
   "cell_type": "code",
   "execution_count": 51,
   "id": "7e7c3e47",
   "metadata": {},
   "outputs": [],
   "source": [
    "#계산했는데 float인 이유 컴퓨터 구조상으로 nan표현 할려면 float타입 이여야 한다"
   ]
  },
  {
   "cell_type": "code",
   "execution_count": 59,
   "id": "62dbe40d",
   "metadata": {},
   "outputs": [
    {
     "data": {
      "text/plain": [
       "도시\n",
       "서울    9904312\n",
       "부산    3448737\n",
       "인천    2890451\n",
       "광주    1500000\n",
       "대구    2001234\n",
       "Name: 인구, dtype: int64"
      ]
     },
     "execution_count": 59,
     "metadata": {},
     "output_type": "execute_result"
    }
   ],
   "source": [
    "#Series 데이터 갱신 추가 삭제\n",
    "# 데이터 갱신 : 기존의 위치에 새로운 데이터를 대입하면 됨\n",
    "pop['대구'] = 2001234\n",
    "pop"
   ]
  },
  {
   "cell_type": "code",
   "execution_count": 60,
   "id": "eaf0a7a0",
   "metadata": {},
   "outputs": [
    {
     "data": {
      "text/plain": [
       "도시\n",
       "서울    9904312\n",
       "부산    3448737\n",
       "인천    2890451\n",
       "광주    1500000\n",
       "대구    2001234\n",
       "Name: 인구, dtype: int64"
      ]
     },
     "execution_count": 60,
     "metadata": {},
     "output_type": "execute_result"
    }
   ],
   "source": [
    "#데이터 추가: 갱신과 방법이 완전 같다 새로운 위치에 새로운 데이터가 대입\n",
    "pop['광주'] = 1500000\n",
    "pop"
   ]
  },
  {
   "cell_type": "code",
   "execution_count": 61,
   "id": "bea62db9",
   "metadata": {},
   "outputs": [
    {
     "data": {
      "text/plain": [
       "도시\n",
       "서울    9904312\n",
       "부산    3448737\n",
       "인천    2890451\n",
       "광주    1500000\n",
       "Name: 인구, dtype: int64"
      ]
     },
     "execution_count": 61,
     "metadata": {},
     "output_type": "execute_result"
    }
   ],
   "source": [
    "#데이터 삭제: del list에서도 봤었다\n",
    "# del 시리즈[삭제할 데이타]\n",
    "del pop['대구']\n",
    "pop"
   ]
  },
  {
   "cell_type": "code",
   "execution_count": null,
   "id": "2c9b90b4",
   "metadata": {},
   "outputs": [],
   "source": [
    "#DataFrame: pandas 안에 있는 자료 구조 2차원\n",
    "#최대 장점은 보기 편한다\n"
   ]
  },
  {
   "cell_type": "code",
   "execution_count": 62,
   "id": "9268e159",
   "metadata": {},
   "outputs": [
    {
     "data": {
      "text/html": [
       "<div>\n",
       "<style scoped>\n",
       "    .dataframe tbody tr th:only-of-type {\n",
       "        vertical-align: middle;\n",
       "    }\n",
       "\n",
       "    .dataframe tbody tr th {\n",
       "        vertical-align: top;\n",
       "    }\n",
       "\n",
       "    .dataframe thead th {\n",
       "        text-align: right;\n",
       "    }\n",
       "</style>\n",
       "<table border=\"1\" class=\"dataframe\">\n",
       "  <thead>\n",
       "    <tr style=\"text-align: right;\">\n",
       "      <th></th>\n",
       "      <th>2015</th>\n",
       "      <th>2010</th>\n",
       "    </tr>\n",
       "  </thead>\n",
       "  <tbody>\n",
       "    <tr>\n",
       "      <th>0</th>\n",
       "      <td>9904312</td>\n",
       "      <td>9631482</td>\n",
       "    </tr>\n",
       "    <tr>\n",
       "      <th>1</th>\n",
       "      <td>3448737</td>\n",
       "      <td>3393191</td>\n",
       "    </tr>\n",
       "    <tr>\n",
       "      <th>2</th>\n",
       "      <td>2890451</td>\n",
       "      <td>2632035</td>\n",
       "    </tr>\n",
       "    <tr>\n",
       "      <th>3</th>\n",
       "      <td>2466052</td>\n",
       "      <td>2431774</td>\n",
       "    </tr>\n",
       "  </tbody>\n",
       "</table>\n",
       "</div>"
      ],
      "text/plain": [
       "      2015     2010\n",
       "0  9904312  9631482\n",
       "1  3448737  3393191\n",
       "2  2890451  2632035\n",
       "3  2466052  2431774"
      ]
     },
     "execution_count": 62,
     "metadata": {},
     "output_type": "execute_result"
    }
   ],
   "source": [
    "data = {\n",
    "    \"2015\" : [9904312,3448737,2890451,2466052],\n",
    "    \"2010\" : [9631482,3393191,2632035,2431774]\n",
    "}\n",
    "\n",
    "df = pd.DataFrame(data)\n",
    "df\n",
    "#보기편하지만 2차원만 가능하다 하지만 2차원 한정이라면 보기 편하다\n",
    "#데이터프레임은 시리즈를 여러개 합쳐놓은거라 인덱스 컬럼도 있음 value도 있음\n"
   ]
  },
  {
   "cell_type": "code",
   "execution_count": 65,
   "id": "983a5522",
   "metadata": {},
   "outputs": [
    {
     "data": {
      "text/html": [
       "<div>\n",
       "<style scoped>\n",
       "    .dataframe tbody tr th:only-of-type {\n",
       "        vertical-align: middle;\n",
       "    }\n",
       "\n",
       "    .dataframe tbody tr th {\n",
       "        vertical-align: top;\n",
       "    }\n",
       "\n",
       "    .dataframe thead th {\n",
       "        text-align: right;\n",
       "    }\n",
       "</style>\n",
       "<table border=\"1\" class=\"dataframe\">\n",
       "  <thead>\n",
       "    <tr style=\"text-align: right;\">\n",
       "      <th></th>\n",
       "      <th>2015</th>\n",
       "      <th>2010</th>\n",
       "    </tr>\n",
       "  </thead>\n",
       "  <tbody>\n",
       "    <tr>\n",
       "      <th>서울</th>\n",
       "      <td>9904312</td>\n",
       "      <td>9631482</td>\n",
       "    </tr>\n",
       "    <tr>\n",
       "      <th>부산</th>\n",
       "      <td>3448737</td>\n",
       "      <td>3393191</td>\n",
       "    </tr>\n",
       "    <tr>\n",
       "      <th>인천</th>\n",
       "      <td>2890451</td>\n",
       "      <td>2632035</td>\n",
       "    </tr>\n",
       "    <tr>\n",
       "      <th>대구</th>\n",
       "      <td>2466052</td>\n",
       "      <td>2431774</td>\n",
       "    </tr>\n",
       "  </tbody>\n",
       "</table>\n",
       "</div>"
      ],
      "text/plain": [
       "       2015     2010\n",
       "서울  9904312  9631482\n",
       "부산  3448737  3393191\n",
       "인천  2890451  2632035\n",
       "대구  2466052  2431774"
      ]
     },
     "execution_count": 65,
     "metadata": {},
     "output_type": "execute_result"
    }
   ],
   "source": [
    "#인덱스 수정\n",
    "df.index = [\"서울\",\"부산\",\"인천\",\"대구\"]\n",
    "df"
   ]
  },
  {
   "cell_type": "code",
   "execution_count": null,
   "id": "34dc4df7",
   "metadata": {},
   "outputs": [],
   "source": []
  },
  {
   "cell_type": "code",
   "execution_count": null,
   "id": "68063f4c",
   "metadata": {},
   "outputs": [],
   "source": []
  }
 ],
 "metadata": {
  "kernelspec": {
   "display_name": "Python 3 (ipykernel)",
   "language": "python",
   "name": "python3"
  },
  "language_info": {
   "codemirror_mode": {
    "name": "ipython",
    "version": 3
   },
   "file_extension": ".py",
   "mimetype": "text/x-python",
   "name": "python",
   "nbconvert_exporter": "python",
   "pygments_lexer": "ipython3",
   "version": "3.10.9"
  }
 },
 "nbformat": 4,
 "nbformat_minor": 5
}
