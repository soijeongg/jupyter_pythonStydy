{
 "cells": [
  {
   "cell_type": "code",
   "execution_count": null,
   "id": "a023f9ee",
   "metadata": {},
   "outputs": [],
   "source": [
    "import RPi.GPIO as GPIO\n",
    "import time\n",
    "\n",
    "# L293D 핀 설정\n",
    "motor1_input1_pin = 24  # 모터1의 IN1 핀 번호\n",
    "motor1_input2_pin = 23  # 모터1의 IN2 핀 번호\n",
    "\n",
    "motor2_input1_pin = 21  # 모터2의 IN1 핀 번호\n",
    "motor2_input2_pin = 20  # 모터2의 IN2 핀 번호\n",
    "\n",
    "# LED 핀 설정\n",
    "led_pin = 25  # LED의 핀 번호\n",
    "\n",
    "# 버튼 핀 설정\n",
    "button1_pin = 18  # 버튼1의 핀 번호\n",
    "button2_pin = 17  # 버튼2의 핀 번호\n",
    "\n",
    "# GPIO 핀 번호 설정\n",
    "GPIO.setmode(GPIO.BCM)\n",
    "GPIO.setup([motor1_input1_pin, motor1_input2_pin, motor2_input1_pin, motor2_input2_pin, led_pin], GPIO.OUT)\n",
    "GPIO.setup([button1_pin, button2_pin], GPIO.IN, pull_up_down=GPIO.PUD_UP)  # 버튼에 내부 풀업 저항 사용\n",
    "\n",
    " button1_state = GPIO.input(button1_pin)  # 버튼1 상태 읽기\n",
    "    button2_state = GPIO.input(button2_pin)  # 버튼2 상태 읽기\n",
    "\n",
    "\n",
    "\n",
    "\n",
    "\n",
    "\n"
   ]
  }
 ],
 "metadata": {
  "kernelspec": {
   "display_name": "Python 3 (ipykernel)",
   "language": "python",
   "name": "python3"
  },
  "language_info": {
   "codemirror_mode": {
    "name": "ipython",
    "version": 3
   },
   "file_extension": ".py",
   "mimetype": "text/x-python",
   "name": "python",
   "nbconvert_exporter": "python",
   "pygments_lexer": "ipython3",
   "version": "3.10.9"
  }
 },
 "nbformat": 4,
 "nbformat_minor": 5
}
