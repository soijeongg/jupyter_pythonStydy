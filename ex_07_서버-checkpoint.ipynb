{
 "cells": [
  {
   "cell_type": "markdown",
   "id": "2fb02a49",
   "metadata": {},
   "source": [
    "# 아두이노\n",
    "- esp32이라는 와이파이 모듈 통해 주변 와이파이 연결\n",
    "- 클라이언트가 특정주소로 요청(request)\n",
    "- Server: 해당 오쳥에 대한 응답(Response)\n"
   ]
  },
  {
   "cell_type": "markdown",
   "id": "673977f9",
   "metadata": {},
   "source": [
    "\n",
    "# 10개국 날씨 정보 수집\n"
   ]
  },
  {
   "cell_type": "code",
   "execution_count": 7,
   "id": "759699ca",
   "metadata": {},
   "outputs": [
    {
     "data": {
      "text/plain": [
       "{'coord': {'lon': 126.9156, 'lat': 35.1547},\n",
       " 'weather': [{'id': 804,\n",
       "   'main': 'Clouds',\n",
       "   'description': 'overcast clouds',\n",
       "   'icon': '04d'}],\n",
       " 'base': 'stations',\n",
       " 'main': {'temp': 22.78,\n",
       "  'feels_like': 23.05,\n",
       "  'temp_min': 22.78,\n",
       "  'temp_max': 22.78,\n",
       "  'pressure': 1006,\n",
       "  'humidity': 74,\n",
       "  'sea_level': 1006,\n",
       "  'grnd_level': 1000},\n",
       " 'visibility': 10000,\n",
       " 'wind': {'speed': 3, 'deg': 313, 'gust': 5.34},\n",
       " 'clouds': {'all': 90},\n",
       " 'dt': 1687393291,\n",
       " 'sys': {'country': 'KR', 'sunrise': 1687378702, 'sunset': 1687430995},\n",
       " 'timezone': 32400,\n",
       " 'id': 1841811,\n",
       " 'name': 'Gwangju',\n",
       " 'cod': 200}"
      ]
     },
     "execution_count": 7,
     "metadata": {},
     "output_type": "execute_result"
    }
   ],
   "source": [
    "# 요청에 사용되는 라이브러리 :requests\n",
    "import requests\n",
    "\n",
    "API_KEY = 'b7bf397fc41c80002f516c220ec34b9a'\n",
    "\n",
    "city_name =  'Gwangju'\n",
    "url =f'https://api.openweathermap.org/data/2.5/weather?q={city_name}&appid={API_KEY}&units=metric'\n",
    "#url로 받아오는 형식을 get이라고 한다\n",
    "response = requests.get(url)#제이슨형식\n",
    "root = response.json()\n",
    "main = root['main']\n",
    "temp = main['temp']\n",
    "root\n",
    "\n"
   ]
  },
  {
   "cell_type": "code",
   "execution_count": null,
   "id": "02a27cb6",
   "metadata": {},
   "outputs": [],
   "source": [
    "#10개도시의 이름을 받아 [이름/흐림]기온 :20도, 습도:80% 풍속: 5m/s\n",
    "#지금 여기에는 영어니까 그걸 딕셔너리 사용해 한글로 바꾼다\n",
    "#1. 들어가는 정보 이름(name) main 기온(temp) 습도('humidity) 풍속(speed) 들어가야함\n",
    "#이 5개 정보를 weatherlist에 어팬드"
   ]
  },
  {
   "cell_type": "code",
   "execution_count": 41,
   "id": "16efd286",
   "metadata": {},
   "outputs": [],
   "source": [
    "#도시들\n",
    "cities = ['Gwangju','Busan','Jeju','Paris','London','Prague',\"New york\",'Shanghai','Amsterdam','Los Angeles','Shenzhen','Haicheng','Daegu','Seoul','Namyangju','Changwon','Yongin','Iksan']\n",
    "weathers=[]\n",
    "for i in range(len(cities)):\n",
    "    city_name = cities[i]\n",
    "    weather=[]\n",
    "   \n",
    "    API_KEY = 'b7bf397fc41c80002f516c220ec34b9a'\n",
    "    url =f'https://api.openweathermap.org/data/2.5/weather?q={city_name}&appid={API_KEY}&units=metric'\n",
    "    response = requests.get(url)#제이슨형식\n",
    "    #weather들을 담아줄 새 list생성\n",
    "    root = response.json()\n",
    "    #각 도시마다 날씨를 넣어줄 list생성\n",
    "    #이름\n",
    "    name = root['name']\n",
    "    weather.append(name)\n",
    "    #날씨\n",
    "    states =root[ 'weather']\n",
    "    mains = states[0]['main']\n",
    "    weather.append(mains)\n",
    "    #기온\n",
    "    main = root['main']\n",
    "    temp = main['temp']\n",
    "    weather.append(temp)\n",
    "    #습도\n",
    "    humidity = main['humidity']\n",
    "    weather.append(humidity)\n",
    "\n",
    "    #풍속\n",
    "    wind = root['wind']\n",
    "    speed= wind['speed']\n",
    "    weather.append(speed)\n",
    "    weathers.append(weather)\n",
    "\n"
   ]
  },
  {
   "cell_type": "code",
   "execution_count": 42,
   "id": "331e24e7",
   "metadata": {},
   "outputs": [
    {
     "name": "stdout",
     "output_type": "stream",
     "text": [
      "[Gwangju / 흐림] 기온 : 25.84도, 습도 : 59%, 풍속 : 4.06m/s\n",
      "[Busan / 흐림] 기온 : 24.99도, 습도 : 61%, 풍속 : 1.54m/s\n",
      "[Jeju City / 맑음] 기온 : 22.96도, 습도 : 78%, 풍속 : 3.6m/s\n",
      "[Paris / 맑음] 기온 : 20.21도, 습도 : 76%, 풍속 : 4.12m/s\n",
      "[London / 흐림] 기온 : 16.23도, 습도 : 84%, 풍속 : 3.09m/s\n",
      "[Prague / 맑음] 기온 : 18.56도, 습도 : 94%, 풍속 : 1.03m/s\n",
      "[New York / 흐림] 기온 : 18.98도, 습도 : 64%, 풍속 : 5.81m/s\n",
      "[Shanghai / 흐림] 기온 : 28.6도, 습도 : 71%, 풍속 : 1m/s\n",
      "[Amsterdam / 흐림] 기온 : 15.98도, 습도 : 92%, 풍속 : 1.03m/s\n",
      "[Los Angeles / 맑음] 기온 : 22.65도, 습도 : 56%, 풍속 : 4.63m/s\n",
      "[Shenzhen / 흐림] 기온 : 30.81도, 습도 : 72%, 풍속 : 4.89m/s\n",
      "[Haicheng / 흐림] 기온 : 27.98도, 습도 : 46%, 풍속 : 3.35m/s\n",
      "[Daegu / 흐림] 기온 : 24.47도, 습도 : 57%, 풍속 : 6.17m/s\n",
      "[Seoul / 흐림] 기온 : 24.02도, 습도 : 62%, 풍속 : 4.12m/s\n",
      "[Namyangju / 흐림] 기온 : 24.05도, 습도 : 53%, 풍속 : 3.76m/s\n",
      "[Changwon / 흐림] 기온 : 24.84도, 습도 : 56%, 풍속 : 1.37m/s\n",
      "[Yongin / 흐림] 기온 : 24.7도, 습도 : 57%, 풍속 : 0.51m/s\n",
      "[Iksan / 흐림] 기온 : 22.9도, 습도 : 59%, 풍속 : 3.82m/s\n"
     ]
    }
   ],
   "source": [
    "# [Gwangju / 흐림] 기온 : 20도, 습도 : 80%, 풍속 : 5m/s\n",
    "#출력부\n",
    "\n",
    "dic_state = {'Clouds':'흐림','Clear':'맑음'}\n",
    "\n",
    "\n",
    "\n",
    "for i in range(len(weathers)):\n",
    "    name = weathers[i][0]\n",
    "    state = weathers[i][1]\n",
    "    state = dic_state [state]\n",
    "    temp = weathers[i][2]\n",
    "    humidity = weathers[i][3]\n",
    "    speed = weathers[i][4]\n",
    "\n",
    "\n",
    "\n",
    "    print(f'[{name} / {state}] 기온 : {temp}도, 습도 : {humidity}%, 풍속 : {speed}m/s')"
   ]
  },
  {
   "cell_type": "code",
   "execution_count": null,
   "id": "d514c053",
   "metadata": {},
   "outputs": [],
   "source": [
    "#우리 승관이 귤리데린 아기귤 제주부좌집 막내아들 언제나 노력하는 승관아 사랑해🍊❤️💙"
   ]
  },
  {
   "cell_type": "markdown",
   "id": "799ab869",
   "metadata": {},
   "source": [
    "# 일별 박스오피스 순위"
   ]
  },
  {
   "cell_type": "code",
   "execution_count": 61,
   "id": "507e7511",
   "metadata": {},
   "outputs": [
    {
     "name": "stdout",
     "output_type": "stream",
     "text": [
      "[['1', '범죄도시3', '2023-05-31', '9160077', '90730492745'], ['2', '스파이더맨: 어크로스 더 유니버스', '2023-06-21', '72445', '771051312'], ['3', '귀공자', '2023-06-21', '93535', '813380686'], ['4', '엘리멘탈', '2023-06-14', '685033', '6780907227'], ['5', '플래시', '2023-06-14', '495922', '5290936224'], ['6', '수라', '2023-06-21', '13793', '121008200'], ['7', '트랜스포머: 비스트의 서막', '2023-06-06', '738979', '7484733008'], ['8', '가디언즈 오브 갤럭시: Volume 3', '2023-05-03', '4196193', '44223769066'], ['9', '남은 인생 10년', '2023-05-24', '128123', '1373520200'], ['10', '마마무: 마이콘 더 무비', '2023-06-21', '617', '12340000']]\n"
     ]
    }
   ],
   "source": [
    "import requests\n",
    "#date = input('날짜를 입력하세요 >>')\n",
    "date  = '20230621'\n",
    "url = f'https://kobis.or.kr/kobisopenapi/webservice/rest/boxoffice/searchDailyBoxOfficeList.json?key=f5eef3421c602c6cb7ea224104795888&targetDt={date}'\n",
    "#10개 도시의 정보\n",
    "movies = []\n",
    "response = requests.get(url)\n",
    "root= response.json()\n",
    "\n",
    "#순위 rank 제목:MovieNm 관객수:audiAcc 매출액:saleAcc 개봉일 openDt\n",
    "\n",
    "\n",
    "for i in range(10):\n",
    "    response = requests.get(url)\n",
    "    root= response.json()\n",
    "    movie = root['boxOfficeResult']['dailyBoxOfficeList'][i]\n",
    "    rank =  movie['rank']\n",
    "    movieNm =movie['movieNm']\n",
    "    openDt = movie['openDt'] \n",
    "    audiAcc = movie['audiAcc']\n",
    "    salesAcc = movie['salesAcc'] \n",
    "    movies.append([rank,movieNm,openDt,audiAcc,salesAcc])\n"
   ]
  },
  {
   "cell_type": "code",
   "execution_count": 62,
   "id": "79b23e66",
   "metadata": {},
   "outputs": [
    {
     "data": {
      "text/plain": [
       "[['1', '범죄도시3', '2023-05-31', '9160077', '90730492745'],\n",
       " ['2', '스파이더맨: 어크로스 더 유니버스', '2023-06-21', '72445', '771051312'],\n",
       " ['3', '귀공자', '2023-06-21', '93535', '813380686'],\n",
       " ['4', '엘리멘탈', '2023-06-14', '685033', '6780907227'],\n",
       " ['5', '플래시', '2023-06-14', '495922', '5290936224'],\n",
       " ['6', '수라', '2023-06-21', '13793', '121008200'],\n",
       " ['7', '트랜스포머: 비스트의 서막', '2023-06-06', '738979', '7484733008'],\n",
       " ['8', '가디언즈 오브 갤럭시: Volume 3', '2023-05-03', '4196193', '44223769066'],\n",
       " ['9', '남은 인생 10년', '2023-05-24', '128123', '1373520200'],\n",
       " ['10', '마마무: 마이콘 더 무비', '2023-06-21', '617', '12340000']]"
      ]
     },
     "execution_count": 62,
     "metadata": {},
     "output_type": "execute_result"
    }
   ],
   "source": [
    "movies\n",
    "#1위 :이름 개봉일 : 누적관객수: 누적매출액: "
   ]
  },
  {
   "cell_type": "code",
   "execution_count": 66,
   "id": "0b0b58f2",
   "metadata": {},
   "outputs": [
    {
     "name": "stdout",
     "output_type": "stream",
     "text": [
      "1위 : 범죄도시3, 개봉일 : 2023-05-31, 누적관객수 : 9160077, 누적매출액 : 90730492745원\n",
      "2위 : 스파이더맨: 어크로스 더 유니버스, 개봉일 : 2023-06-21, 누적관객수 : 72445, 누적매출액 : 771051312원\n",
      "3위 : 귀공자, 개봉일 : 2023-06-21, 누적관객수 : 93535, 누적매출액 : 813380686원\n",
      "4위 : 엘리멘탈, 개봉일 : 2023-06-14, 누적관객수 : 685033, 누적매출액 : 6780907227원\n",
      "5위 : 플래시, 개봉일 : 2023-06-14, 누적관객수 : 495922, 누적매출액 : 5290936224원\n",
      "6위 : 수라, 개봉일 : 2023-06-21, 누적관객수 : 13793, 누적매출액 : 121008200원\n",
      "7위 : 트랜스포머: 비스트의 서막, 개봉일 : 2023-06-06, 누적관객수 : 738979, 누적매출액 : 7484733008원\n",
      "8위 : 가디언즈 오브 갤럭시: Volume 3, 개봉일 : 2023-05-03, 누적관객수 : 4196193, 누적매출액 : 44223769066원\n",
      "9위 : 남은 인생 10년, 개봉일 : 2023-05-24, 누적관객수 : 128123, 누적매출액 : 1373520200원\n",
      "10위 : 마마무: 마이콘 더 무비, 개봉일 : 2023-06-21, 누적관객수 : 617, 누적매출액 : 12340000원\n"
     ]
    }
   ],
   "source": [
    "for i in range(len(movies)):\n",
    "    \n",
    "    rank = movies[i][0]\n",
    "    movieNm = movies[i][1]\n",
    "    openDt = movies[i][2]\n",
    "    audiAcc = movies[i][3]\n",
    "    salesAcc = movies[i][4]\n",
    "    print('{}위 : {}, 개봉일 : {}, 누적관객수 : {}, 누적매출액 : {}원'.format(rank, movieNm,openDt,audiAcc,salesAcc))"
   ]
  },
  {
   "cell_type": "markdown",
   "id": "d29b3a5e",
   "metadata": {},
   "source": [
    "# 공공데이터 수집"
   ]
  },
  {
   "cell_type": "code",
   "execution_count": 74,
   "id": "fe8d8127",
   "metadata": {},
   "outputs": [
    {
     "name": "stdout",
     "output_type": "stream",
     "text": [
      "★금당산 신년맞이행사★\n",
      "장소 :광주광역시 남구 진월동 금당산 정상\n",
      "기간:2021-01-01 - 2021-01-01\n",
      "★광주 칠석 고싸움놀이★\n",
      "장소 :광주광역시 남구 칠석동 고싸움 놀이테마파크\n",
      "기간:2022-02-15 - 2022-02-15\n",
      "★장 담그는날 행사★\n",
      "장소 :광주광역시 남구 콩 종합센터\n",
      "기간:2022-01-29 - 2022-02-27\n",
      "★굿모닝양림★\n",
      "장소 :광주광역시 남구 양림동66번지\n",
      "기간:2020-11-07 - 2020-11-28\n",
      "★용아생가 어린이축제★\n",
      "장소 :광주광역시 광산구 용아생가\n",
      "기간:2021-05-29 - 2021-05-29\n",
      "★영산강문화제★\n",
      "장소 :광주광역시 서구 서창동 영산강 둔지\n",
      "기간:2021-10-07 - 2021-10-10\n",
      "★광주 프린지 페스티벌 동구★\n",
      "장소 :광주광역시 동구 푸른길공원(지역이동하여 개최)\n",
      "기간:2021-07-17 - 2021-07-17\n",
      "★광주 프린지 페스티벌 남구 유안근린공원★\n",
      "장소 :광주광역시 남구 유안근린공원\n",
      "기간:2021-08-28 - 2021-08-28\n",
      "★광주 프린지 페스티벌 광산구 쌍암공원★\n",
      "장소 :광주광역시 광산구 쌍암공원\n",
      "기간:2021-09-11 - 2021-09-11\n",
      "★광주 프린지 페스티벌 송정역★\n",
      "장소 :광주광역시 광산구 송정역&송정시작1913\n",
      "기간:2021-09-18 - 2021-09-18\n",
      "★광주프린지페스티벌 광주기아챔피언스 필드★\n",
      "장소 :광주광역시 북구 광주기아챔피언스필드\n",
      "기간:2021-08-21 - 2021-08-27\n",
      "★광주프린지페스티벌 비엔날레 광장★\n",
      "장소 :광주광역시 북구 비엔날레전시관 광장\n",
      "기간:2021-09-04 - 2021-09-10\n",
      "★광주프린지페스티벌 양산호수공원★\n",
      "장소 :광주광역시 북구 양산호수공원\n",
      "기간:2021-09-25 - 2021-10-01\n",
      "★빌라이트(Belight) in 북구 비엔날레 문화콘서트★\n",
      "장소 :광주광역시 북구 비엔날레전시관 광장\n",
      "기간:2021-07-03 - 2021-08-28\n",
      "★제 13회 광주비엔날레★\n",
      "장소 :광주광역시 북구 비엔날레전시관\n",
      "기간:2021-04-01 - 2021-05-09\n",
      "★제 9회 광주디자인비엔날레★\n",
      "장소 :광주광역시 북구 비엔날레전시관\n",
      "기간:2021-09-01 - 2021-10-31\n",
      "★제6회 영산강 서창들녘 억새축제★\n",
      "장소 :영산강 친수공원 일대(영산강 자전거길 안내센터 앞)\n",
      "기간:2021-10-07 - 2021-10-10\n",
      "★광주 프린지페스티벌 김대중컨벤션센터★\n",
      "장소 :김대중컨벤션센터 광장\n",
      "기간:2021-07-03 - 2021-07-03\n",
      "★광주 프린지페스티벌 유스퀘어광장★\n",
      "장소 :유스퀘어광장\n",
      "기간:2021-08-14 - 2021-08-14\n",
      "★충장축제★\n",
      "장소 :광주광역시 동구 충장로\n",
      "기간:2021-10-13 - 2021-10-17\n",
      "★광주문화재야행★\n",
      "장소 :광주광역시 동구 문화전당로 38\n",
      "기간:2021-09-03 - 2012-09-17\n",
      "★돗자리 야외 영화제★\n",
      "장소 :광주 동구 화산로 318-26 용산체육공원\n",
      "기간:2019-06-01 - 2019-06-01\n",
      "★광주 프린지 페스티벌★\n",
      "장소 :광주 동구 계림동 730 푸른길공원(지역이동하여 개최)\n",
      "기간:2021-07-03 - 2021-10-02\n",
      "★온라인 어린이 가족문화축제 How fun 7★\n",
      "장소 :온라인\n",
      "기간:2021-08-04 - 2021-08-08\n",
      "★2021  ACC  뮤직페스티벌★\n",
      "장소 :광주광역시 동구 국립아시아문화전당 어린이극장 어린이문화원\n",
      "기간:2021-08-20 - 2021-08-22\n"
     ]
    }
   ],
   "source": [
    "# Python3 샘플 코드 #\n",
    "\n",
    "\n",
    "import requests\n",
    "\n",
    "url = 'http://apis.data.go.kr/6290000/festivalbaseinfo/getfestivalbaseinfo'\n",
    "serivcekey = 'Bi+7mLtf8E/FLORJvagj6aWDHlkMQG4Fx6FIBE/3hV1RclnJcgUWJ1/f7tJMXj+Ypb0cmot8zutn5xUR5W00Iw=='\n",
    "output = \"json\"\n",
    "\n",
    "params ={'serviceKey' :serivcekey,'type':output}\n",
    "response = requests.get(url, params=params)\n",
    "root = response.json()\n",
    "Festivals = root['FestivalBaseInfo']\n",
    "\n",
    "#이름 날짜 시작 끝날자 장소\n",
    "for i in range(len(Festivals)):\n",
    "    name = Festivals[i]['festivalNm']\n",
    "    place = Festivals[i]['festivalVenue']\n",
    "    start = Festivals[i]['festivalBeginDate']\n",
    "    end = Festivals[i]['festivalEndDate']\n",
    "    print(f'★{name}★')\n",
    "    print(f'장소 :{place}')\n",
    "    print(f'기간:{start} - {end}')\n",
    "#★금당산 행사★\\\n",
    "#장소 \n",
    "#기간: "
   ]
  },
  {
   "cell_type": "code",
   "execution_count": null,
   "id": "43fc58a1",
   "metadata": {},
   "outputs": [],
   "source": []
  },
  {
   "cell_type": "code",
   "execution_count": 113,
   "id": "7d891034",
   "metadata": {
    "scrolled": true
   },
   "outputs": [
    {
     "name": "stdout",
     "output_type": "stream",
     "text": [
      "이름: 무등도서관 주소:광주광역시 북구 면양로 130(우산동)\n",
      " 휴관일:정기휴관일 : 매월 둘째, 넷째 월요일\n",
      "법정공휴일 : 관공서 공휴일(단, 설과 추석 공휴일이 아닌 일요일은 제외)\n",
      "임시휴관일 : 도서관 사정으로 관장이 지정한 날\n",
      "이름: 무등도서관 주소:광주광역시 북구 면양로 130(우산동)\n",
      " 휴관일:정기휴관일 : 매월 둘째, 넷째 월요일\n",
      "법정공휴일 : 관공서 공휴일(단, 설과 추석 공휴일이 아닌 일요일은 제외)\n",
      "임시휴관일 : 도서관 사정으로 관장이 지정한 날\n",
      "이름: 무등도서관 주소:광주광역시 북구 면양로 130(우산동)\n",
      " 휴관일:정기휴관일 : 매월 둘째, 넷째 월요일\n",
      "법정공휴일 : 관공서 공휴일(단, 설과 추석 공휴일이 아닌 일요일은 제외)\n",
      "임시휴관일 : 도서관 사정으로 관장이 지정한 날\n",
      "이름: 무등도서관 주소:광주광역시 북구 면양로 130(우산동)\n",
      " 휴관일:정기휴관일 : 매월 둘째, 넷째 월요일\n",
      "법정공휴일 : 관공서 공휴일(단, 설과 추석 공휴일이 아닌 일요일은 제외)\n",
      "임시휴관일 : 도서관 사정으로 관장이 지정한 날\n",
      "이름: 무등도서관 주소:광주광역시 북구 면양로 130(우산동)\n",
      " 휴관일:정기휴관일 : 매월 둘째, 넷째 월요일\n",
      "법정공휴일 : 관공서 공휴일(단, 설과 추석 공휴일이 아닌 일요일은 제외)\n",
      "임시휴관일 : 도서관 사정으로 관장이 지정한 날\n",
      "이름: 무등도서관 주소:광주광역시 북구 면양로 130(우산동)\n",
      " 휴관일:정기휴관일 : 매월 둘째, 넷째 월요일\n",
      "법정공휴일 : 관공서 공휴일(단, 설과 추석 공휴일이 아닌 일요일은 제외)\n",
      "임시휴관일 : 도서관 사정으로 관장이 지정한 날\n",
      "이름: 사직도서관 주소:광주광역시 남구 제중로 56(양림동)\n",
      " 휴관일:정기휴관일 : 매월 첫째, 셋째 월요일\n",
      "법정공휴일 : 관공서 공휴일(단, 설과 추석 공휴일이 아닌 일요일은 제외)\n",
      "임시휴관일 : 도서관 사정으로 관장이 지정한 날\n",
      "이름: 사직도서관 주소:광주광역시 남구 제중로 56(양림동)\n",
      " 휴관일:정기휴관일 : 매월 첫째, 셋째 월요일\n",
      "법정공휴일 : 관공서 공휴일(단, 설과 추석 공휴일이 아닌 일요일은 제외)\n",
      "임시휴관일 : 도서관 사정으로 관장이 지정한 날\n",
      "이름: 사직도서관 주소:광주광역시 남구 제중로 56(양림동)\n",
      " 휴관일:정기휴관일 : 매월 첫째, 셋째 월요일\n",
      "법정공휴일 : 관공서 공휴일(단, 설과 추석 공휴일이 아닌 일요일은 제외)\n",
      "임시휴관일 : 도서관 사정으로 관장이 지정한 날\n",
      "이름: 사직도서관 주소:광주광역시 남구 제중로 56(양림동)\n",
      " 휴관일:정기휴관일 : 매월 첫째, 셋째 월요일\n",
      "법정공휴일 : 관공서 공휴일(단, 설과 추석 공휴일이 아닌 일요일은 제외)\n",
      "임시휴관일 : 도서관 사정으로 관장이 지정한 날\n"
     ]
    },
    {
     "name": "stderr",
     "output_type": "stream",
     "text": [
      "C:\\Users\\gjaischool\\anaconda3\\lib\\site-packages\\urllib3\\connectionpool.py:1045: InsecureRequestWarning: Unverified HTTPS request is being made to host 'bigdata.gwangju.go.kr'. Adding certificate verification is strongly advised. See: https://urllib3.readthedocs.io/en/1.26.x/advanced-usage.html#ssl-warnings\n",
      "  warnings.warn(\n"
     ]
    }
   ],
   "source": [
    "import requests\n",
    "\n",
    "url = 'http://bigdata.gwangju.go.kr/gjAPI/getPublicLib/getPublicLiblist.rd?apiSrvCd=0040&pageNo=1&numOfRow=10'\n",
    "\n",
    "response = requests.get(url,verify=False)\n",
    "root = response.json()\n",
    "library =[]\n",
    "body = root[\"response\"]['body']\n",
    "for i in range(10):\n",
    "    name = body[\"items\"][i]['type1']\n",
    "    addres = body[\"items\"][i][\"st_add_2\"]\n",
    "    closed_days = body[\"items\"][i][\"closed_days\"]\n",
    "    print(f\"이름: {name} 주소:{addres}\\n 휴관일:{closed_days}\")\n",
    "    \n",
    "    \n",
    "\n",
    "\n",
    "\n"
   ]
  },
  {
   "cell_type": "code",
   "execution_count": null,
   "id": "133b4f92",
   "metadata": {},
   "outputs": [],
   "source": []
  },
  {
   "cell_type": "code",
   "execution_count": null,
   "id": "866a7d9c",
   "metadata": {},
   "outputs": [],
   "source": []
  }
 ],
 "metadata": {
  "kernelspec": {
   "display_name": "Python 3 (ipykernel)",
   "language": "python",
   "name": "python3"
  },
  "language_info": {
   "codemirror_mode": {
    "name": "ipython",
    "version": 3
   },
   "file_extension": ".py",
   "mimetype": "text/x-python",
   "name": "python",
   "nbconvert_exporter": "python",
   "pygments_lexer": "ipython3",
   "version": "3.10.9"
  }
 },
 "nbformat": 4,
 "nbformat_minor": 5
}
