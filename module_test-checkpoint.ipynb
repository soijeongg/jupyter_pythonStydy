{
 "cells": [
  {
   "cell_type": "code",
   "execution_count": null,
   "id": "ed900e8b",
   "metadata": {},
   "outputs": [],
   "source": [
    "#모듈을 직접 만들것임"
   ]
  },
  {
   "cell_type": "markdown",
   "id": "a1693fa1",
   "metadata": {},
   "source": [
    "# 모듈(Module)\n",
    " - 함수들이 모여있는 파일\n",
    " - 함수가 기본적으로 가지고 있는 특징을 공유함\n",
    " - 모듈을 만들게 되면 파일만 가지고 있어도 모듈안의 함수 사용가능 "
   ]
  },
  {
   "cell_type": "code",
   "execution_count": null,
   "id": "3796c302",
   "metadata": {},
   "outputs": [],
   "source": []
  },
  {
   "cell_type": "code",
   "execution_count": null,
   "id": "28a6bdc2",
   "metadata": {},
   "outputs": [],
   "source": []
  },
  {
   "cell_type": "code",
   "execution_count": null,
   "id": "fdd9a793",
   "metadata": {},
   "outputs": [],
   "source": []
  },
  {
   "cell_type": "code",
   "execution_count": null,
   "id": "601c21aa",
   "metadata": {},
   "outputs": [],
   "source": []
  }
 ],
 "metadata": {
  "kernelspec": {
   "display_name": "Python 3 (ipykernel)",
   "language": "python",
   "name": "python3"
  },
  "language_info": {
   "codemirror_mode": {
    "name": "ipython",
    "version": 3
   },
   "file_extension": ".py",
   "mimetype": "text/x-python",
   "name": "python",
   "nbconvert_exporter": "python",
   "pygments_lexer": "ipython3",
   "version": "3.10.9"
  }
 },
 "nbformat": 4,
 "nbformat_minor": 5
}
