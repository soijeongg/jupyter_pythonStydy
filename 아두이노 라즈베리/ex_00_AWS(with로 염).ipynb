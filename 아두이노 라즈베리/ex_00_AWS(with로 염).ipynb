{
 "cells": [
  {
   "cell_type": "markdown",
   "id": "e9b772ab",
   "metadata": {},
   "source": [
    "# AWS\n",
    "- amazon Web Serivce\n",
    "# lmange Rekogintion"
   ]
  },
  {
   "cell_type": "code",
   "execution_count": null,
   "id": "d34fd44a",
   "metadata": {},
   "outputs": [],
   "source": [
    "# 1.api키 내 컴퓨터와 AWS연결(환경설정을 한다)\n",
    "# 2.해당코드 작성\n",
    "# 3.결과물 분석\n",
    "#4. aws들어가서 iam들어가서 사용자 api가면 됨\n",
    "#5.내컴퓨터에 내 api키 연결하기\n",
    "# ,기준으로 앞이 id 뒤가 비밀번호"
   ]
  },
  {
   "cell_type": "markdown",
   "id": "2eec4b8a",
   "metadata": {},
   "source": [
    "# Detecting Object with local file\n",
    "# 로컬 파일을 활용한 객체 감지"
   ]
  },
  {
   "cell_type": "markdown",
   "id": "d30d57bb",
   "metadata": {},
   "source": [
    "- 샘플 코드\n",
    "- AWS -> Amazon Rekognition"
   ]
  },
  {
   "cell_type": "code",
   "execution_count": 1,
   "id": "5cc4328f",
   "metadata": {},
   "outputs": [
    {
     "name": "stdout",
     "output_type": "stream",
     "text": [
      "Collecting boto3\n",
      "  Downloading boto3-1.26.162-py3-none-any.whl (135 kB)\n",
      "     -------------------------------------- 135.9/135.9 kB 2.7 MB/s eta 0:00:00\n",
      "Collecting s3transfer<0.7.0,>=0.6.0\n",
      "  Downloading s3transfer-0.6.1-py3-none-any.whl (79 kB)\n",
      "     ---------------------------------------- 79.8/79.8 kB 4.3 MB/s eta 0:00:00\n",
      "Collecting botocore<1.30.0,>=1.29.162\n",
      "  Downloading botocore-1.29.162-py3-none-any.whl (11.0 MB)\n",
      "     ---------------------------------------- 11.0/11.0 MB 8.4 MB/s eta 0:00:00\n",
      "Requirement already satisfied: jmespath<2.0.0,>=0.7.1 in c:\\users\\gjaischool\\anaconda3\\lib\\site-packages (from boto3) (0.10.0)\n",
      "Requirement already satisfied: python-dateutil<3.0.0,>=2.1 in c:\\users\\gjaischool\\anaconda3\\lib\\site-packages (from botocore<1.30.0,>=1.29.162->boto3) (2.8.2)\n",
      "Requirement already satisfied: urllib3<1.27,>=1.25.4 in c:\\users\\gjaischool\\anaconda3\\lib\\site-packages (from botocore<1.30.0,>=1.29.162->boto3) (1.26.14)\n",
      "Requirement already satisfied: six>=1.5 in c:\\users\\gjaischool\\anaconda3\\lib\\site-packages (from python-dateutil<3.0.0,>=2.1->botocore<1.30.0,>=1.29.162->boto3) (1.16.0)\n",
      "Installing collected packages: botocore, s3transfer, boto3\n",
      "Successfully installed boto3-1.26.162 botocore-1.29.162 s3transfer-0.6.1\n"
     ]
    }
   ],
   "source": [
    "!pip install boto3"
   ]
  },
  {
   "cell_type": "code",
   "execution_count": 50,
   "id": "bbe95a7e",
   "metadata": {},
   "outputs": [
    {
     "name": "stdout",
     "output_type": "stream",
     "text": [
      "Detected labels in rabbit.jpg\n",
      "강아지가 아닙니다\n",
      "Labels detected: 8\n"
     ]
    }
   ],
   "source": [
    "#Copyright 2018 Amazon.com, Inc. or its affiliates. All Rights Reserved.\n",
    "#PDX-License-Identifier: MIT-0 (For details, see https://github.com/awsdocs/amazon-rekognition-developer-guide/blob/master/LICENSE-SAMPLECODE.)\n",
    "#boto3는 이미지를 아마존과 주고받음\n",
    "#이결과는 response에 담겨있다\n",
    "import boto3\n",
    "\n",
    "def detect_labels_local_file(photo):\n",
    "\n",
    "#boto3퉁해 요청 이사진을 AWS쪽으로 가서 open해서 통로를 염\n",
    "#꼭 닫아야 함 리소스를 낭비 그래서with 구문 염과 동시에 이 구문이 끝나면 자동으로 닫아줌\n",
    "    client=boto3.client('rekognition')\n",
    "   \n",
    "    with open(photo, 'rb') as image:\n",
    "        response = client.detect_labels(Image={'Bytes': image.read()})\n",
    "        \n",
    "        #print(response)\n",
    "    print('Detected labels in ' + photo)  \n",
    "    cnt=0\n",
    "    for label in response['Labels']:\n",
    "        #print (label['Name'] + ' : ' + str(label['Confidence']))\n",
    "       \n",
    "        if label['Name'] == 'Dog':\n",
    "            cnt+=1\n",
    "        else:\n",
    "            pass\n",
    "    if cnt==1:\n",
    "        print('강아지일 확률은 {:.2f}%입니다'.format(label['Confidence']))\n",
    "    else:\n",
    "        print(\"강아지가 아닙니다\")\n",
    "       \n",
    "            \n",
    "        \n",
    "        \n",
    "\n",
    "                    \n",
    "\n",
    "    return len(response['Labels'])\n",
    "def main():\n",
    "    photo=\"rabbit.jpg\"\n",
    "\n",
    "    label_count=detect_labels_local_file(photo)\n",
    "    print(\"Labels detected: \" + str(label_count))\n",
    "\n",
    "\n",
    "if __name__ == \"__main__\":\n",
    "    main()\n",
    "\n",
    "\n",
    "\n",
    "    #다른 사진을 넣더라도 if dog이라면 출력된다"
   ]
  },
  {
   "cell_type": "code",
   "execution_count": null,
   "id": "f575f37e",
   "metadata": {},
   "outputs": [],
   "source": [
    "#얼굴 분석하기\n",
    "#comparing Faces"
   ]
  },
  {
   "cell_type": "code",
   "execution_count": 62,
   "id": "bc6a092d",
   "metadata": {},
   "outputs": [
    {
     "name": "stdout",
     "output_type": "stream",
     "text": [
      "동일 인물일 확률은 31.94%입니다.\n",
      "동일 인물일 확률은 3.52%입니다.\n",
      "Face matches: 2\n"
     ]
    }
   ],
   "source": [
    "# Copyright 2018 Amazon.com, Inc. or its affiliates. All Rights Reserved.\n",
    "# PDX-License-Identifier: MIT-0 (For details, see https://github.com/awsdocs/amazon-rekognition-developer-guide/blob/master/LICENSE-SAMPLECODE.)\n",
    "\n",
    "import boto3\n",
    "\n",
    "def compare_faces(sourceFile, targetFile):\n",
    "\n",
    "    client = boto3.client('rekognition')\n",
    "\n",
    "    imageSource = open(sourceFile, 'rb')\n",
    "    imageTarget = open(targetFile, 'rb')\n",
    "\n",
    "    response = client.compare_faces(SimilarityThreshold=0,\n",
    "                                    SourceImage={'Bytes': imageSource.read()},\n",
    "                                    TargetImage={'Bytes': imageTarget.read()})\n",
    "\n",
    "    for faceMatch in response['FaceMatches']:\n",
    "        position = faceMatch['Face']['BoundingBox']\n",
    "        print(\"동일 인물일 확률은 {:.2f}%입니다.\".format(faceMatch['Similarity']))\n",
    "        #similarity = str(faceMatch['Similarity'])\n",
    "       # print('The face at ' +\n",
    "              #str(position['Left']) + ' ' +\n",
    "              #str(position['Top']) +\n",
    "              #' matches with ' + similarity + '% confidence')\n",
    "\n",
    "    imageSource.close()\n",
    "    imageTarget.close()\n",
    "    return len(response['FaceMatches'])\n",
    "\n",
    "def main():\n",
    "    source_file = 'soi.jpg'\n",
    "    target_file = 'KakaoTalk_20230628_170047507.jpg'\n",
    "    face_matches = compare_faces(source_file, target_file)\n",
    "    print(\"Face matches: \" + str(face_matches))\n",
    "\n",
    "if __name__ == \"__main__\":\n",
    "    main()"
   ]
  },
  {
   "cell_type": "code",
   "execution_count": 63,
   "id": "04ca8ed8",
   "metadata": {},
   "outputs": [
    {
     "data": {
      "text/plain": [
       "[0, 20, 40, 60]"
      ]
     },
     "execution_count": 63,
     "metadata": {},
     "output_type": "execute_result"
    }
   ],
   "source": [
    "a=[0,10,20,30,40,50,60,70,80,90]\n",
    "a[:7:2]"
   ]
  },
  {
   "cell_type": "code",
   "execution_count": null,
   "id": "f91fd855",
   "metadata": {},
   "outputs": [],
   "source": []
  },
  {
   "cell_type": "code",
   "execution_count": null,
   "id": "83eeef64",
   "metadata": {},
   "outputs": [],
   "source": []
  },
  {
   "cell_type": "code",
   "execution_count": null,
   "id": "d6906da5",
   "metadata": {},
   "outputs": [],
   "source": []
  },
  {
   "cell_type": "code",
   "execution_count": null,
   "id": "67115ab3",
   "metadata": {},
   "outputs": [],
   "source": []
  },
  {
   "cell_type": "code",
   "execution_count": null,
   "id": "9e1fffc7",
   "metadata": {},
   "outputs": [],
   "source": []
  },
  {
   "cell_type": "code",
   "execution_count": null,
   "id": "406e71f3",
   "metadata": {},
   "outputs": [],
   "source": []
  },
  {
   "cell_type": "code",
   "execution_count": null,
   "id": "c29dedb6",
   "metadata": {},
   "outputs": [],
   "source": []
  },
  {
   "cell_type": "code",
   "execution_count": null,
   "id": "254433a6",
   "metadata": {},
   "outputs": [],
   "source": []
  },
  {
   "cell_type": "code",
   "execution_count": null,
   "id": "f52c56d2",
   "metadata": {},
   "outputs": [],
   "source": []
  },
  {
   "cell_type": "code",
   "execution_count": null,
   "id": "c4a8f81b",
   "metadata": {},
   "outputs": [],
   "source": []
  }
 ],
 "metadata": {
  "kernelspec": {
   "display_name": "Python 3 (ipykernel)",
   "language": "python",
   "name": "python3"
  },
  "language_info": {
   "codemirror_mode": {
    "name": "ipython",
    "version": 3
   },
   "file_extension": ".py",
   "mimetype": "text/x-python",
   "name": "python",
   "nbconvert_exporter": "python",
   "pygments_lexer": "ipython3",
   "version": "3.10.9"
  }
 },
 "nbformat": 4,
 "nbformat_minor": 5
}
